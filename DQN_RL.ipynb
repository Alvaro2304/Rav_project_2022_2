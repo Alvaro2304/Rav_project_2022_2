{
 "cells": [
  {
   "cell_type": "code",
   "execution_count": 1,
   "metadata": {},
   "outputs": [],
   "source": [
    "import gym \n",
    "import random\n",
    "import matplotlib.pyplot as plt"
   ]
  },
  {
   "cell_type": "code",
   "execution_count": 2,
   "metadata": {},
   "outputs": [
    {
     "name": "stderr",
     "output_type": "stream",
     "text": [
      "A.L.E: Arcade Learning Environment (version 0.7.5+db37282)\n",
      "[Powered by Stella]\n"
     ]
    }
   ],
   "source": [
    "# open env from gym\n",
    "\n",
    "env = gym.make(\"ALE/SpaceInvaders-v5\")\n",
    "\n",
    "height, width, channels = env.observation_space.shape\n",
    "actions = env.action_space.n\n"
   ]
  },
  {
   "cell_type": "code",
   "execution_count": 29,
   "metadata": {},
   "outputs": [
    {
     "data": {
      "text/plain": [
       "210"
      ]
     },
     "execution_count": 29,
     "metadata": {},
     "output_type": "execute_result"
    }
   ],
   "source": [
    "height"
   ]
  },
  {
   "cell_type": "code",
   "execution_count": 30,
   "metadata": {},
   "outputs": [
    {
     "data": {
      "text/plain": [
       "160"
      ]
     },
     "execution_count": 30,
     "metadata": {},
     "output_type": "execute_result"
    }
   ],
   "source": [
    "width"
   ]
  },
  {
   "cell_type": "markdown",
   "metadata": {},
   "source": [
    "# Testeo del enviroment"
   ]
  },
  {
   "cell_type": "code",
   "execution_count": 46,
   "metadata": {},
   "outputs": [
    {
     "name": "stdout",
     "output_type": "stream",
     "text": [
      "Episode:1 Score:-200.0\n",
      "Episode:2 Score:-200.0\n",
      "Episode:3 Score:-200.0\n",
      "Episode:4 Score:-200.0\n",
      "Episode:5 Score:-200.0\n"
     ]
    }
   ],
   "source": [
    "episodes = 5\n",
    "for episode in range(1, episodes+1):\n",
    "    state = env.reset()\n",
    "    done = False\n",
    "    score = 0 \n",
    "    \n",
    "    while not done:\n",
    "        env.render()\n",
    "        action = random.choice([0,1])\n",
    "        n_state, reward, done, info = env.step(action)\n",
    "        score+=reward\n",
    "    print('Episode:{} Score:{}'.format(episode, score))\n",
    "    \n",
    "env.close()"
   ]
  },
  {
   "cell_type": "markdown",
   "metadata": {},
   "source": [
    "# Creando la red neuronal"
   ]
  },
  {
   "cell_type": "code",
   "execution_count": 3,
   "metadata": {},
   "outputs": [
    {
     "name": "stderr",
     "output_type": "stream",
     "text": [
      "2022-11-27 13:10:07.725861: I tensorflow/core/platform/cpu_feature_guard.cc:193] This TensorFlow binary is optimized with oneAPI Deep Neural Network Library (oneDNN) to use the following CPU instructions in performance-critical operations:  AVX2 FMA\n",
      "To enable them in other operations, rebuild TensorFlow with the appropriate compiler flags.\n",
      "2022-11-27 13:10:08.892228: E tensorflow/stream_executor/cuda/cuda_blas.cc:2981] Unable to register cuBLAS factory: Attempting to register factory for plugin cuBLAS when one has already been registered\n",
      "2022-11-27 13:10:10.990896: W tensorflow/stream_executor/platform/default/dso_loader.cc:64] Could not load dynamic library 'libnvinfer.so.7'; dlerror: libnvinfer.so.7: cannot open shared object file: No such file or directory; LD_LIBRARY_PATH: /home/alvaro/anaconda3/envs/tf-wsl/lib/python3.8/site-packages/cv2/../../lib64:/usr/local/cuda/include:/usr/local/cuda/lib64:/home/alvaro/robotics_ws/devel/lib:/opt/ros/noetic/lib:/usr/local/cuda/extras/CUPTI/lib64\n",
      "2022-11-27 13:10:10.991147: W tensorflow/stream_executor/platform/default/dso_loader.cc:64] Could not load dynamic library 'libnvinfer_plugin.so.7'; dlerror: libnvinfer_plugin.so.7: cannot open shared object file: No such file or directory; LD_LIBRARY_PATH: /home/alvaro/anaconda3/envs/tf-wsl/lib/python3.8/site-packages/cv2/../../lib64:/usr/local/cuda/include:/usr/local/cuda/lib64:/home/alvaro/robotics_ws/devel/lib:/opt/ros/noetic/lib:/usr/local/cuda/extras/CUPTI/lib64\n",
      "2022-11-27 13:10:10.991156: W tensorflow/compiler/tf2tensorrt/utils/py_utils.cc:38] TF-TRT Warning: Cannot dlopen some TensorRT libraries. If you would like to use Nvidia GPU with TensorRT, please make sure the missing libraries mentioned above are installed properly.\n"
     ]
    }
   ],
   "source": [
    "import numpy as np\n",
    "import tensorflow as tf\n",
    "from tensorflow.keras.models import Sequential\n",
    "from tensorflow.keras.layers import Dense, Flatten,Convolution2D\n",
    "from tensorflow.keras.optimizers import Adam\n",
    "\n"
   ]
  },
  {
   "cell_type": "code",
   "execution_count": 26,
   "metadata": {},
   "outputs": [],
   "source": [
    "del model"
   ]
  },
  {
   "cell_type": "markdown",
   "metadata": {},
   "source": [
    "# NN mk2"
   ]
  },
  {
   "cell_type": "code",
   "execution_count": 27,
   "metadata": {},
   "outputs": [],
   "source": [
    "def build_model(height, width, channels, actions):\n",
    "\n",
    "    model = tf.keras.Sequential()\n",
    "    model.add(Convolution2D(32, (8,8), strides=(4,4), activation='relu', input_shape=(3,height, width, channels)))\n",
    "    model.add(Convolution2D(64, (4,4), strides=(2,2), activation='relu'))\n",
    "    model.add(Flatten())\n",
    "    model.add(Dense(216, activation='relu'))     \n",
    "    model.add(Dense(actions, activation='linear'))\n",
    "    return model"
   ]
  },
  {
   "cell_type": "code",
   "execution_count": 28,
   "metadata": {},
   "outputs": [],
   "source": [
    "model = build_model(height, width, channels, actions)\n"
   ]
  },
  {
   "cell_type": "code",
   "execution_count": 29,
   "metadata": {},
   "outputs": [
    {
     "name": "stdout",
     "output_type": "stream",
     "text": [
      "Model: \"sequential_3\"\n",
      "_________________________________________________________________\n",
      " Layer (type)                Output Shape              Param #   \n",
      "=================================================================\n",
      " conv2d_6 (Conv2D)           (None, 3, 51, 39, 32)     6176      \n",
      "                                                                 \n",
      " conv2d_7 (Conv2D)           (None, 3, 24, 18, 64)     32832     \n",
      "                                                                 \n",
      " flatten_3 (Flatten)         (None, 82944)             0         \n",
      "                                                                 \n",
      " dense_12 (Dense)            (None, 216)               17916120  \n",
      "                                                                 \n",
      " dense_13 (Dense)            (None, 6)                 1302      \n",
      "                                                                 \n",
      "=================================================================\n",
      "Total params: 17,956,430\n",
      "Trainable params: 17,956,430\n",
      "Non-trainable params: 0\n",
      "_________________________________________________________________\n"
     ]
    }
   ],
   "source": [
    "model.summary()"
   ]
  },
  {
   "cell_type": "markdown",
   "metadata": {},
   "source": [
    "# Agente"
   ]
  },
  {
   "cell_type": "code",
   "execution_count": 8,
   "metadata": {},
   "outputs": [],
   "source": [
    "from rl.agents import DQNAgent\n",
    "from rl.policy import EpsGreedyQPolicy,LinearAnnealedPolicy\n",
    "from rl.memory import SequentialMemory\n",
    "from tensorflow.python.framework.ops import disable_eager_execution"
   ]
  },
  {
   "cell_type": "code",
   "execution_count": 61,
   "metadata": {},
   "outputs": [],
   "source": [
    "def build_agent(model, actions):\n",
    "    # policy = BoltzmannQPolicy()\n",
    "    policy=EpsGreedyQPolicy()\n",
    "    memory = SequentialMemory(limit=100000, window_length=1)\n",
    "   ##Dueling DQN with parameters\n",
    "    \n",
    "    dqn = DQNAgent(model=model, memory=memory, policy=policy, \n",
    "    nb_actions=actions, \n",
    "   # processor=processor,\n",
    "    nb_steps_warmup=100,\n",
    "    gamma=.99, \n",
    "    target_model_update=100,\n",
    "    #train_interval=4,\n",
    "    #delta_clip=1.,\n",
    "    enable_dueling_network=True,\n",
    "    dueling_type='avg'\n",
    ")\n",
    "    return dqn\n",
    "\n"
   ]
  },
  {
   "cell_type": "code",
   "execution_count": 9,
   "metadata": {},
   "outputs": [],
   "source": [
    "def build_agent(model, actions):\n",
    "    policy = LinearAnnealedPolicy(EpsGreedyQPolicy(), attr='eps', value_max=1., value_min=.1, value_test=.2, nb_steps=10000)\n",
    "    memory = SequentialMemory(limit=1000, window_length=3)\n",
    "    dqn = DQNAgent(model=model, memory=memory, policy=policy,\n",
    "                  enable_dueling_network=True, dueling_type='avg', \n",
    "                   nb_actions=actions, nb_steps_warmup=1000\n",
    "                  )\n",
    "    return dqn"
   ]
  },
  {
   "cell_type": "code",
   "execution_count": 15,
   "metadata": {},
   "outputs": [],
   "source": [
    "dqn = build_agent(model, actions)"
   ]
  },
  {
   "cell_type": "markdown",
   "metadata": {},
   "source": [
    "# Mi VRAM solo rinde hasta 10k steps :ccccccc"
   ]
  },
  {
   "cell_type": "code",
   "execution_count": 16,
   "metadata": {},
   "outputs": [
    {
     "name": "stderr",
     "output_type": "stream",
     "text": [
      "/home/alvaro/anaconda3/envs/tf-wsl/lib/python3.8/site-packages/keras/optimizers/optimizer_v2/adam.py:114: UserWarning: The `lr` argument is deprecated, use `learning_rate` instead.\n",
      "  super().__init__(name, **kwargs)\n"
     ]
    }
   ],
   "source": [
    "dqn.compile(Adam(lr=1e-3))"
   ]
  },
  {
   "cell_type": "code",
   "execution_count": 18,
   "metadata": {},
   "outputs": [
    {
     "name": "stdout",
     "output_type": "stream",
     "text": [
      "Training for 10000 steps ...\n"
     ]
    },
    {
     "name": "stderr",
     "output_type": "stream",
     "text": [
      "/home/alvaro/anaconda3/envs/tf-wsl/lib/python3.8/site-packages/keras/engine/training_v1.py:2356: UserWarning: `Model.state_updates` will be removed in a future version. This property should not be used in TensorFlow 2.0, as `updates` are applied automatically.\n",
      "  updates=self.state_updates,\n",
      "2022-11-27 13:19:00.247066: I tensorflow/stream_executor/cuda/cuda_dnn.cc:384] Loaded cuDNN version 8101\n",
      "2022-11-27 13:19:03.667157: I tensorflow/core/platform/default/subprocess.cc:304] Start cannot spawn child process: No such file or directory\n"
     ]
    },
    {
     "name": "stdout",
     "output_type": "stream",
     "text": [
      "  380/10000: episode: 1, duration: 19.031s, episode steps: 380, steps per second:  20, episode reward: 20.000, mean reward:  0.053 [ 0.000, 10.000], mean action: 2.482 [0.000, 5.000],  loss: --, mean_q: --, mean_eps: --\n",
      "  668/10000: episode: 2, duration: 6.565s, episode steps: 288, steps per second:  44, episode reward: 45.000, mean reward:  0.156 [ 0.000, 15.000], mean action: 2.399 [0.000, 5.000],  loss: --, mean_q: --, mean_eps: --\n",
      "  966/10000: episode: 3, duration: 6.047s, episode steps: 298, steps per second:  49, episode reward: 50.000, mean reward:  0.168 [ 0.000, 20.000], mean action: 2.648 [0.000, 5.000],  loss: --, mean_q: --, mean_eps: --\n"
     ]
    },
    {
     "name": "stderr",
     "output_type": "stream",
     "text": [
      "/home/alvaro/anaconda3/envs/tf-wsl/lib/python3.8/site-packages/keras/engine/training_v1.py:2356: UserWarning: `Model.state_updates` will be removed in a future version. This property should not be used in TensorFlow 2.0, as `updates` are applied automatically.\n",
      "  updates=self.state_updates,\n"
     ]
    },
    {
     "name": "stdout",
     "output_type": "stream",
     "text": [
      " 1352/10000: episode: 4, duration: 288.526s, episode steps: 386, steps per second:   1, episode reward: 105.000, mean reward:  0.272 [ 0.000, 30.000], mean action: 2.622 [0.000, 5.000],  loss: 1.473581, mean_q: 1.974715, mean_eps: 0.894160\n",
      " 2004/10000: episode: 5, duration: 512.881s, episode steps: 652, steps per second:   1, episode reward: 190.000, mean reward:  0.291 [ 0.000, 30.000], mean action: 2.416 [0.000, 5.000],  loss: 1.763360, mean_q: 1.405423, mean_eps: 0.849025\n",
      " 2400/10000: episode: 6, duration: 310.940s, episode steps: 396, steps per second:   1, episode reward: 105.000, mean reward:  0.265 [ 0.000, 30.000], mean action: 2.563 [0.000, 5.000],  loss: 2.047386, mean_q: 0.495461, mean_eps: 0.801865\n",
      " 3056/10000: episode: 7, duration: 508.077s, episode steps: 656, steps per second:   1, episode reward: 260.000, mean reward:  0.396 [ 0.000, 30.000], mean action: 2.780 [0.000, 5.000],  loss: 2.466645, mean_q: 0.495298, mean_eps: 0.754525\n",
      " 3452/10000: episode: 8, duration: 307.636s, episode steps: 396, steps per second:   1, episode reward: 95.000, mean reward:  0.240 [ 0.000, 20.000], mean action: 2.553 [0.000, 5.000],  loss: 2.320054, mean_q: 0.567154, mean_eps: 0.707185\n",
      " 3778/10000: episode: 9, duration: 252.339s, episode steps: 326, steps per second:   1, episode reward: 65.000, mean reward:  0.199 [ 0.000, 15.000], mean action: 2.620 [0.000, 5.000],  loss: 1.257128, mean_q: 0.613742, mean_eps: 0.674695\n",
      " 4595/10000: episode: 10, duration: 634.907s, episode steps: 817, steps per second:   1, episode reward: 325.000, mean reward:  0.398 [ 0.000, 30.000], mean action: 2.823 [0.000, 5.000],  loss: 1.243576, mean_q: 1.212072, mean_eps: 0.623260\n",
      " 5153/10000: episode: 11, duration: 434.192s, episode steps: 558, steps per second:   1, episode reward: 160.000, mean reward:  0.287 [ 0.000, 25.000], mean action: 2.627 [0.000, 5.000],  loss: 2.140244, mean_q: 1.100067, mean_eps: 0.561385\n",
      " 5809/10000: episode: 12, duration: 511.463s, episode steps: 656, steps per second:   1, episode reward: 190.000, mean reward:  0.290 [ 0.000, 30.000], mean action: 2.657 [0.000, 5.000],  loss: 1.833182, mean_q: 1.262565, mean_eps: 0.506755\n",
      " 6532/10000: episode: 13, duration: 563.344s, episode steps: 723, steps per second:   1, episode reward: 260.000, mean reward:  0.360 [ 0.000, 30.000], mean action: 2.672 [0.000, 5.000],  loss: 2.934443, mean_q: 0.933651, mean_eps: 0.444700\n",
      " 7133/10000: episode: 14, duration: 466.235s, episode steps: 601, steps per second:   1, episode reward: 210.000, mean reward:  0.349 [ 0.000, 30.000], mean action: 2.810 [0.000, 5.000],  loss: 3.453665, mean_q: 1.069081, mean_eps: 0.385120\n",
      " 7726/10000: episode: 15, duration: 459.081s, episode steps: 593, steps per second:   1, episode reward: 180.000, mean reward:  0.304 [ 0.000, 30.000], mean action: 2.526 [0.000, 5.000],  loss: 3.299775, mean_q: 0.916710, mean_eps: 0.331390\n",
      " 8647/10000: episode: 16, duration: 712.748s, episode steps: 921, steps per second:   1, episode reward: 230.000, mean reward:  0.250 [ 0.000, 30.000], mean action: 3.394 [0.000, 5.000],  loss: 2.531849, mean_q: 0.588980, mean_eps: 0.263260\n",
      " 9253/10000: episode: 17, duration: 472.200s, episode steps: 606, steps per second:   1, episode reward: 245.000, mean reward:  0.404 [ 0.000, 30.000], mean action: 3.573 [0.000, 5.000],  loss: 2.315568, mean_q: 0.447849, mean_eps: 0.194545\n",
      " 9859/10000: episode: 18, duration: 474.212s, episode steps: 606, steps per second:   1, episode reward: 155.000, mean reward:  0.256 [ 0.000, 30.000], mean action: 2.934 [0.000, 5.000],  loss: 3.102144, mean_q: 0.280277, mean_eps: 0.140005\n",
      "done, took 7051.495 seconds\n"
     ]
    },
    {
     "data": {
      "text/plain": [
       "<keras.callbacks.History at 0x7fab145d5970>"
      ]
     },
     "execution_count": 18,
     "metadata": {},
     "output_type": "execute_result"
    }
   ],
   "source": [
    "\n",
    "\n",
    "dqn.fit(env, nb_steps=10000, visualize=False, verbose=2)\n"
   ]
  },
  {
   "cell_type": "markdown",
   "metadata": {},
   "source": [
    "#  Probar la red neuronal"
   ]
  },
  {
   "cell_type": "code",
   "execution_count": 23,
   "metadata": {},
   "outputs": [
    {
     "name": "stdout",
     "output_type": "stream",
     "text": [
      "Testing for 10 episodes ...\n",
      "Episode 1: reward: 180.000, steps: 611\n",
      "Episode 2: reward: 460.000, steps: 765\n",
      "Episode 3: reward: 110.000, steps: 505\n",
      "Episode 4: reward: 260.000, steps: 741\n",
      "Episode 5: reward: 180.000, steps: 611\n",
      "Episode 6: reward: 350.000, steps: 1090\n",
      "Episode 7: reward: 110.000, steps: 505\n",
      "Episode 8: reward: 180.000, steps: 608\n",
      "Episode 9: reward: 110.000, steps: 512\n",
      "Episode 10: reward: 180.000, steps: 653\n",
      "212.0\n"
     ]
    }
   ],
   "source": [
    "scores = dqn.test(env, nb_episodes=10, visualize=False)\n",
    "print(np.mean(scores.history['episode_reward']))"
   ]
  },
  {
   "cell_type": "code",
   "execution_count": 75,
   "metadata": {},
   "outputs": [],
   "source": [
    "env.close()"
   ]
  },
  {
   "cell_type": "markdown",
   "metadata": {},
   "source": [
    "# Guardar y cargar pesos"
   ]
  },
  {
   "cell_type": "code",
   "execution_count": 25,
   "metadata": {},
   "outputs": [],
   "source": [
    "dqn.save_weights('space_invaders_mk2_20k.h5f', overwrite=True)"
   ]
  },
  {
   "cell_type": "code",
   "execution_count": 17,
   "metadata": {},
   "outputs": [],
   "source": [
    "dqn.load_weights('space_invaders_mk2_20k.h5f')"
   ]
  },
  {
   "cell_type": "markdown",
   "metadata": {},
   "source": [
    "# Ploteo de rewards"
   ]
  },
  {
   "cell_type": "code",
   "execution_count": 24,
   "metadata": {},
   "outputs": [
    {
     "data": {
      "image/png": "[encoded data removed]",
      "text/plain": [
       "<Figure size 432x288 with 1 Axes>"
      ]
     },
     "metadata": {
      "needs_background": "light"
     },
     "output_type": "display_data"
    }
   ],
   "source": [
    "plt.plot(scores.history['episode_reward'])\n",
    "\n",
    "plt.show()\n"
   ]
  }
 ],
 "metadata": {
  "kernelspec": {
   "display_name": "Python 3.8.15 ('tf-wsl')",
   "language": "python",
   "name": "python3"
  },
  "language_info": {
   "codemirror_mode": {
    "name": "ipython",
    "version": 3
   },
   "file_extension": ".py",
   "mimetype": "text/x-python",
   "name": "python",
   "nbconvert_exporter": "python",
   "pygments_lexer": "ipython3",
   "version": "3.8.15"
  },
  "orig_nbformat": 4,
  "vscode": {
   "interpreter": {
    "hash": "1cd55fd51119e7e138cc6283ba2b0f40d088b178c70fa4a17a1b711aea889981"
   }
  }
 },
 "nbformat": 4,
 "nbformat_minor": 2
}
